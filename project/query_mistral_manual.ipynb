{
 "cells": [
  {
   "cell_type": "markdown",
   "id": "207cabea-3628-47f4-b8c7-6aee270b86aa",
   "metadata": {},
   "source": [
    "# Prerequisites"
   ]
  },
  {
   "cell_type": "code",
   "execution_count": 1,
   "id": "0cd17b00-6a55-49ad-a8bc-190988143593",
   "metadata": {
    "scrolled": true
   },
   "outputs": [],
   "source": [
    "%%capture\n",
    "pip install requests docling transformers ipywidgets"
   ]
  },
  {
   "cell_type": "code",
   "execution_count": 2,
   "id": "a795ccba-4313-40b9-ab56-aa89f286629b",
   "metadata": {},
   "outputs": [],
   "source": [
    "%%capture\n",
    "pip install llama-index-core llama-index-readers-docling llama-index-node-parser-docling llama-index-embeddings-huggingface llama-index-llms-huggingface-api llama-index-vector-stores-milvus llama-index-readers-file python-dotenv;"
   ]
  },
  {
   "cell_type": "markdown",
   "id": "1cc97642-caf4-47e4-83e6-3cbf82f5155a",
   "metadata": {},
   "source": [
    "# Use mistral completions as api endpoint:\n",
    "\n",
    "\n",
    "We use the /v1/chat/completions endpoint as it is the most suitable endpoint for a chat bot when using the mistral-7b model"
   ]
  },
  {
   "cell_type": "code",
   "execution_count": 3,
   "id": "b8680203-40c3-4efb-8261-ddd77048efbe",
   "metadata": {},
   "outputs": [],
   "source": [
    "llm_api_endpoints = \"https://mistral-7b.mistral-7b.svc.cluster.local/v1/chat/completions\""
   ]
  },
  {
   "cell_type": "markdown",
   "id": "77f23d56-2972-45d8-b711-8120f4ceb4df",
   "metadata": {},
   "source": [
    "# Define payload that combines the prompt together with the markdown\n",
    "\n",
    "Temperature: \n",
    "What sampling temperature to use, between 0 and 2. Higher values like 0.8 will make the output more random, while lower values like 0.2 will make it more focused and deterministic.\n"
   ]
  },
  {
   "cell_type": "code",
   "execution_count": 4,
   "id": "35aea783-55a3-43e9-8e32-88ff0780e09d",
   "metadata": {},
   "outputs": [
    {
     "ename": "NameError",
     "evalue": "name 'prompt' is not defined",
     "output_type": "error",
     "traceback": [
      "\u001b[0;31m---------------------------------------------------------------------------\u001b[0m",
      "\u001b[0;31mNameError\u001b[0m                                 Traceback (most recent call last)",
      "Cell \u001b[0;32mIn[4], line 3\u001b[0m\n\u001b[1;32m      1\u001b[0m payload \u001b[38;5;241m=\u001b[39m {\n\u001b[1;32m      2\u001b[0m     \u001b[38;5;124m\"\u001b[39m\u001b[38;5;124mmodel\u001b[39m\u001b[38;5;124m\"\u001b[39m: \u001b[38;5;124m\"\u001b[39m\u001b[38;5;124mmistral-7b\u001b[39m\u001b[38;5;124m\"\u001b[39m,\n\u001b[0;32m----> 3\u001b[0m     \u001b[38;5;124m\"\u001b[39m\u001b[38;5;124mprompt\u001b[39m\u001b[38;5;124m\"\u001b[39m: \u001b[43mprompt\u001b[49m,\n\u001b[1;32m      4\u001b[0m     \u001b[38;5;124m\"\u001b[39m\u001b[38;5;124mmax_tokens\u001b[39m\u001b[38;5;124m\"\u001b[39m: \u001b[38;5;241m2000\u001b[39m,\n\u001b[1;32m      5\u001b[0m         \u001b[38;5;124m\"\u001b[39m\u001b[38;5;124mtemperature\u001b[39m\u001b[38;5;124m\"\u001b[39m: \u001b[38;5;241m0.4\u001b[39m,\n\u001b[1;32m      6\u001b[0m        \u001b[38;5;66;03m#\"top_p\": 0.1,\u001b[39;00m\n\u001b[1;32m      7\u001b[0m         \u001b[38;5;124m\"\u001b[39m\u001b[38;5;124mn\u001b[39m\u001b[38;5;124m\"\u001b[39m: \u001b[38;5;241m1\u001b[39m\n\u001b[1;32m      8\u001b[0m }\n",
      "\u001b[0;31mNameError\u001b[0m: name 'prompt' is not defined"
     ]
    }
   ],
   "source": [
    "payload = {\n",
    "    \"model\": \"mistral-7b\",\n",
    "    \"prompt\": prompt,\n",
    "    \"max_tokens\": 2000,\n",
    "        \"temperature\": 0.4,\n",
    "       #\"top_p\": 0.1,\n",
    "        \"n\": 1\n",
    "}"
   ]
  },
  {
   "cell_type": "markdown",
   "id": "64431812-d2b5-4095-9087-44314e326293",
   "metadata": {},
   "source": [
    "# Send prompt to LLM"
   ]
  },
  {
   "cell_type": "code",
   "execution_count": null,
   "id": "90800ae9-e1de-44e0-8ee9-801c12682807",
   "metadata": {},
   "outputs": [],
   "source": [
    "result = requests.post(llm_api_endpoint, verify=False, json=payload)\n",
    "body = result.json()"
   ]
  },
  {
   "cell_type": "markdown",
   "id": "5fcf4e20-ece4-4c8d-941f-ba649ee8dd13",
   "metadata": {},
   "source": [
    "# Print LLM Result"
   ]
  },
  {
   "cell_type": "code",
   "execution_count": null,
   "id": "06315a6b-b2ae-49ec-b5ac-9353adbc37e8",
   "metadata": {
    "scrolled": true
   },
   "outputs": [],
   "source": [
    "print(result)\n",
    "#print(body)\n",
    "print(body.get(\"choices\")[0].get(\"text\"))"
   ]
  }
 ],
 "metadata": {
  "kernelspec": {
   "display_name": "Python 3.11",
   "language": "python",
   "name": "python3"
  },
  "language_info": {
   "codemirror_mode": {
    "name": "ipython",
    "version": 3
   },
   "file_extension": ".py",
   "mimetype": "text/x-python",
   "name": "python",
   "nbconvert_exporter": "python",
   "pygments_lexer": "ipython3",
   "version": "3.11.7"
  }
 },
 "nbformat": 4,
 "nbformat_minor": 5
}
