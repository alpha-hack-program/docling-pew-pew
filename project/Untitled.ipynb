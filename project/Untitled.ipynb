{
 "cells": [
  {
   "cell_type": "code",
   "execution_count": 8,
   "id": "8dceba19-dc39-49ff-b0f5-470d58959cc0",
   "metadata": {},
   "outputs": [
    {
     "name": "stdout",
     "output_type": "stream",
     "text": [
      "Requirement already satisfied: requests in /opt/app-root/lib64/python3.11/site-packages (2.32.3)\n",
      "Requirement already satisfied: charset-normalizer<4,>=2 in /opt/app-root/lib64/python3.11/site-packages (from requests) (3.4.0)\n",
      "Requirement already satisfied: idna<4,>=2.5 in /opt/app-root/lib64/python3.11/site-packages (from requests) (3.10)\n",
      "Requirement already satisfied: urllib3<3,>=1.21.1 in /opt/app-root/lib64/python3.11/site-packages (from requests) (2.2.3)\n",
      "Requirement already satisfied: certifi>=2017.4.17 in /opt/app-root/lib64/python3.11/site-packages (from requests) (2024.8.30)\n",
      "\n",
      "\u001b[1m[\u001b[0m\u001b[34;49mnotice\u001b[0m\u001b[1;39;49m]\u001b[0m\u001b[39;49m A new release of pip is available: \u001b[0m\u001b[31;49m23.2.1\u001b[0m\u001b[39;49m -> \u001b[0m\u001b[32;49m24.3.1\u001b[0m\n",
      "\u001b[1m[\u001b[0m\u001b[34;49mnotice\u001b[0m\u001b[1;39;49m]\u001b[0m\u001b[39;49m To update, run: \u001b[0m\u001b[32;49mpip install --upgrade pip\u001b[0m\n",
      "Note: you may need to restart the kernel to use updated packages.\n"
     ]
    }
   ],
   "source": [
    "pip install requests"
   ]
  },
  {
   "cell_type": "code",
   "execution_count": 1,
   "id": "c7b030bf-7d6f-4151-994e-b1e3329b3116",
   "metadata": {},
   "outputs": [],
   "source": [
    "markdown_dummy =\"\"\"\n",
    "# Cristiano Ronaldo: A Brief Introduction\n",
    "Cristiano Ronaldo dos Santos Aveiro, commonly known as Cristiano Ronaldo, is one of the greatest football players of all time. Born on February 5, 1985, in Funchal, Madeira, Portugal, Ronaldo’s journey from a humble background to global superstardom is nothing short of inspiring.\n",
    "\n",
    "## Early Life and Career\n",
    "Ronaldo began his football journey with Andorinha, a local club, before moving to Nacional. His prodigious talent caught the eye of Sporting CP, where\n",
    "\"\"\"\n",
    "\n",
    "prompt =f\"\"\"\n",
    "You are a commentator. Your task is to write a report on an essay.\n",
    "When presented with the essay, come up with interesting questions to ask, and answer each question.\n",
    "Afterward, combine all the information and write a report in the markdown format.\n",
    "\n",
    "# Essay:\n",
    "{markdown_dummy}\n",
    "\n",
    "# Instructions:\n",
    "## Summarize:\n",
    "In clear and concise language, summarize the key points and themes presented in the essay.\n",
    "\n",
    "## Interesting Questions:\n",
    "Generate three distinct and thought-provoking questions that can be asked about the content of the essay. For each question:\n",
    "- After \"Q: \", describe the problem\n",
    "- After \"A: \", provide a detailed explanation of the problem addressed in the question.\n",
    "- Enclose the ultimate answer in <>.\n",
    "\n",
    "## Write a report\n",
    "Using the essay summary and the answers to the interesting questions, create a comprehensive report in Markdown format.\n",
    "\"\"\"\n",
    "\n"
   ]
  },
  {
   "cell_type": "code",
   "execution_count": 6,
   "id": "12242314-f180-4749-89aa-ab443fafc796",
   "metadata": {},
   "outputs": [],
   "source": [
    "llm_api_endpoints = \"https://mistral-7b.mistral-7b.svc.cluster.local/v1/chat\""
   ]
  },
  {
   "cell_type": "code",
   "execution_count": 7,
   "id": "66211340-ad19-476a-9b45-3e99967e1214",
   "metadata": {},
   "outputs": [],
   "source": [
    "payload = {\n",
    "    \"model\": \"mistral-7b\",\n",
    "    \"prompt\": prompt,\n",
    "    \"max_tokens\": 500,\n",
    "        \"temperature\": 0.1,\n",
    "       #\"top_p\": 0.1,\n",
    "        \"n\": 1\n",
    "}"
   ]
  },
  {
   "cell_type": "code",
   "execution_count": 10,
   "id": "c3e7ad59-ab38-4df4-983f-98b404493018",
   "metadata": {},
   "outputs": [
    {
     "name": "stderr",
     "output_type": "stream",
     "text": [
      "/opt/app-root/lib64/python3.11/site-packages/urllib3/connectionpool.py:1099: InsecureRequestWarning: Unverified HTTPS request is being made to host 'mistral-7b.mistral-7b.svc.cluster.local'. Adding certificate verification is strongly advised. See: https://urllib3.readthedocs.io/en/latest/advanced-usage.html#tls-warnings\n",
      "  warnings.warn(\n"
     ]
    }
   ],
   "source": [
    "import requests\n",
    "\n",
    "result = requests.post(llm_api_endpoints, verify=False, json=payload)\n",
    "body = result.json()"
   ]
  },
  {
   "cell_type": "code",
   "execution_count": 9,
   "id": "c51cb368-75b4-429c-9fb6-dd7fb510514e",
   "metadata": {},
   "outputs": [
    {
     "name": "stdout",
     "output_type": "stream",
     "text": [
      "<Response [404]>\n"
     ]
    }
   ],
   "source": [
    "print(result)\n",
    "#print(body)"
   ]
  }
 ],
 "metadata": {
  "kernelspec": {
   "display_name": "Python 3.11",
   "language": "python",
   "name": "python3"
  },
  "language_info": {
   "codemirror_mode": {
    "name": "ipython",
    "version": 3
   },
   "file_extension": ".py",
   "mimetype": "text/x-python",
   "name": "python",
   "nbconvert_exporter": "python",
   "pygments_lexer": "ipython3",
   "version": "3.11.7"
  }
 },
 "nbformat": 4,
 "nbformat_minor": 5
}
